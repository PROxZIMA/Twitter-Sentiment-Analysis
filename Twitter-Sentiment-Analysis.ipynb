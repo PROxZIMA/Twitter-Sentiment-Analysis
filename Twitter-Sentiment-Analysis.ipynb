{
 "cells": [
  {
   "cell_type": "code",
   "execution_count": 1,
   "id": "running-handling",
   "metadata": {
    "_cell_guid": "b1076dfc-b9ad-4769-8c92-a6c4dae69d19",
    "_uuid": "8f2839f25d086af736a60e9eeb907d3b93b6e0e5",
    "execution": {
     "iopub.execute_input": "2021-04-29T16:08:47.737176Z",
     "iopub.status.busy": "2021-04-29T16:08:47.736533Z",
     "iopub.status.idle": "2021-04-29T16:08:47.782451Z",
     "shell.execute_reply": "2021-04-29T16:08:47.781716Z"
    },
    "papermill": {
     "duration": 0.069116,
     "end_time": "2021-04-29T16:08:47.782630",
     "exception": false,
     "start_time": "2021-04-29T16:08:47.713514",
     "status": "completed"
    },
    "tags": []
   },
   "outputs": [],
   "source": [
    "import re, string\n",
    "import pandas as pd\n",
    "# plotting\n",
    "import seaborn as sns\n",
    "import matplotlib.pyplot as plt\n",
    "# nltk\n",
    "from nltk import word_tokenize, sent_tokenize\n",
    "from nltk.corpus import stopwords\n",
    "from nltk.stem import PorterStemmer, WordNetLemmatizer\n",
    "# sentiment\n",
    "from vaderSentiment.vaderSentiment import SentimentIntensityAnalyzer\n",
    "# sklearn\n",
    "from sklearn.cluster import KMeans\n",
    "from sklearn.decomposition import PCA, TruncatedSVD\n",
    "from sklearn.feature_extraction.text import TfidfVectorizer, CountVectorizer\n",
    "# from sklearn.svm import LinearSVC\n",
    "# from sklearn.naive_bayes import BernoulliNB\n",
    "# from sklearn.linear_model import LogisticRegression\n",
    "# from sklearn.model_selection import train_test_split\n",
    "# from sklearn.metrics import confusion_matrix, classification_report"
   ]
  },
  {
   "cell_type": "markdown",
   "id": "b3b316b4",
   "metadata": {},
   "source": [
    "# DataFrame Analysis"
   ]
  },
  {
   "cell_type": "markdown",
   "id": "0fa6547a",
   "metadata": {},
   "source": [
    "DataSet Link: [Kaggle](https://www.kaggle.com/ruchi798/data-science-tweets)"
   ]
  },
  {
   "cell_type": "code",
   "execution_count": 2,
   "id": "invisible-drinking",
   "metadata": {
    "execution": {
     "iopub.execute_input": "2021-04-29T16:08:48.613085Z",
     "iopub.status.busy": "2021-04-29T16:08:48.612339Z",
     "iopub.status.idle": "2021-04-29T16:08:53.750859Z",
     "shell.execute_reply": "2021-04-29T16:08:53.750214Z"
    },
    "papermill": {
     "duration": 5.158218,
     "end_time": "2021-04-29T16:08:53.751003",
     "exception": false,
     "start_time": "2021-04-29T16:08:48.592785",
     "status": "completed"
    },
    "tags": []
   },
   "outputs": [],
   "source": [
    "# read file\n",
    "df = pd.read_csv('tweets/data_science.csv', engine='python')\n",
    "\n",
    "# extract id, created_at, username, tweet\n",
    "df = df[[\"id\", \"created_at\", \"username\", \"tweet\"]]\n",
    "df.columns = [\"id\", \"date\", \"user\", \"tweet\"]\n",
    "\n",
    "# and convert date\n",
    "df.date = pd.to_datetime(df.date, format=\"%Y-%m-%d %H:%M:%S IST\").dt.tz_localize('EST').dt.tz_convert('Asia/Kolkata')"
   ]
  },
  {
   "cell_type": "code",
   "execution_count": 3,
   "id": "little-castle",
   "metadata": {
    "execution": {
     "iopub.execute_input": "2021-04-29T16:08:53.989471Z",
     "iopub.status.busy": "2021-04-29T16:08:53.988772Z",
     "iopub.status.idle": "2021-04-29T16:08:54.348875Z",
     "shell.execute_reply": "2021-04-29T16:08:54.349621Z"
    },
    "papermill": {
     "duration": 0.378899,
     "end_time": "2021-04-29T16:08:54.349869",
     "exception": false,
     "start_time": "2021-04-29T16:08:53.970970",
     "status": "completed"
    },
    "scrolled": false,
    "tags": []
   },
   "outputs": [
    {
     "name": "stdout",
     "output_type": "stream",
     "text": [
      "<class 'pandas.core.frame.DataFrame'>\n",
      "RangeIndex: 241386 entries, 0 to 241385\n",
      "Data columns (total 4 columns):\n",
      " #   Column  Non-Null Count   Dtype                       \n",
      "---  ------  --------------   -----                       \n",
      " 0   id      241386 non-null  int64                       \n",
      " 1   date    241386 non-null  datetime64[ns, Asia/Kolkata]\n",
      " 2   user    241386 non-null  object                      \n",
      " 3   tweet   241386 non-null  object                      \n",
      "dtypes: datetime64[ns, Asia/Kolkata](1), int64(1), object(2)\n",
      "memory usage: 7.4+ MB\n"
     ]
    }
   ],
   "source": [
    "# show structure\n",
    "df.info()"
   ]
  },
  {
   "cell_type": "code",
   "execution_count": 4,
   "id": "788e4c95",
   "metadata": {
    "scrolled": true
   },
   "outputs": [
    {
     "data": {
      "text/html": [
       "<div>\n",
       "<style scoped>\n",
       "    .dataframe tbody tr th:only-of-type {\n",
       "        vertical-align: middle;\n",
       "    }\n",
       "\n",
       "    .dataframe tbody tr th {\n",
       "        vertical-align: top;\n",
       "    }\n",
       "\n",
       "    .dataframe thead th {\n",
       "        text-align: right;\n",
       "    }\n",
       "</style>\n",
       "<table border=\"1\" class=\"dataframe\">\n",
       "  <thead>\n",
       "    <tr style=\"text-align: right;\">\n",
       "      <th></th>\n",
       "      <th>id</th>\n",
       "      <th>date</th>\n",
       "      <th>user</th>\n",
       "      <th>tweet</th>\n",
       "    </tr>\n",
       "  </thead>\n",
       "  <tbody>\n",
       "    <tr>\n",
       "      <th>24879</th>\n",
       "      <td>1326572031077462017</td>\n",
       "      <td>2020-11-12 09:06:33+05:30</td>\n",
       "      <td>kirkdborne</td>\n",
       "      <td>Proof of concept is old news! Showing #IoT Pro...</td>\n",
       "    </tr>\n",
       "    <tr>\n",
       "      <th>197459</th>\n",
       "      <td>646353498573901825</td>\n",
       "      <td>2015-09-23 08:00:57+05:30</td>\n",
       "      <td>pinnacle</td>\n",
       "      <td>Unwrap our betting focused R packages and impr...</td>\n",
       "    </tr>\n",
       "    <tr>\n",
       "      <th>228709</th>\n",
       "      <td>388628319639728128</td>\n",
       "      <td>2013-10-12 03:33:06+05:30</td>\n",
       "      <td>data_nerd</td>\n",
       "      <td>What can your data do for you?  http://t.co/ty...</td>\n",
       "    </tr>\n",
       "    <tr>\n",
       "      <th>116805</th>\n",
       "      <td>1011047378508505089</td>\n",
       "      <td>2018-06-25 16:44:14+05:30</td>\n",
       "      <td>kirkdborne</td>\n",
       "      <td>Digital Experience and Artificial Intelligence...</td>\n",
       "    </tr>\n",
       "    <tr>\n",
       "      <th>204413</th>\n",
       "      <td>606438980276633600</td>\n",
       "      <td>2015-06-05 04:34:54+05:30</td>\n",
       "      <td>cheltfestivals</td>\n",
       "      <td>What if...data science can solve our future? F...</td>\n",
       "    </tr>\n",
       "  </tbody>\n",
       "</table>\n",
       "</div>"
      ],
      "text/plain": [
       "                         id                      date            user  \\\n",
       "24879   1326572031077462017 2020-11-12 09:06:33+05:30      kirkdborne   \n",
       "197459   646353498573901825 2015-09-23 08:00:57+05:30        pinnacle   \n",
       "228709   388628319639728128 2013-10-12 03:33:06+05:30       data_nerd   \n",
       "116805  1011047378508505089 2018-06-25 16:44:14+05:30      kirkdborne   \n",
       "204413   606438980276633600 2015-06-05 04:34:54+05:30  cheltfestivals   \n",
       "\n",
       "                                                    tweet  \n",
       "24879   Proof of concept is old news! Showing #IoT Pro...  \n",
       "197459  Unwrap our betting focused R packages and impr...  \n",
       "228709  What can your data do for you?  http://t.co/ty...  \n",
       "116805  Digital Experience and Artificial Intelligence...  \n",
       "204413  What if...data science can solve our future? F...  "
      ]
     },
     "execution_count": 4,
     "metadata": {},
     "output_type": "execute_result"
    }
   ],
   "source": [
    "df.sample(5)"
   ]
  },
  {
   "cell_type": "markdown",
   "id": "frank-light",
   "metadata": {
    "papermill": {
     "duration": 0.015803,
     "end_time": "2021-04-29T16:08:55.600720",
     "exception": false,
     "start_time": "2021-04-29T16:08:55.584917",
     "status": "completed"
    },
    "tags": []
   },
   "source": [
    "# Analyze Text"
   ]
  },
  {
   "cell_type": "code",
   "execution_count": 5,
   "id": "incorrect-horizontal",
   "metadata": {
    "execution": {
     "iopub.execute_input": "2021-04-29T16:08:55.639830Z",
     "iopub.status.busy": "2021-04-29T16:08:55.639192Z",
     "iopub.status.idle": "2021-04-29T16:08:55.643473Z",
     "shell.execute_reply": "2021-04-29T16:08:55.642847Z"
    },
    "papermill": {
     "duration": 0.026771,
     "end_time": "2021-04-29T16:08:55.643612",
     "exception": false,
     "start_time": "2021-04-29T16:08:55.616841",
     "status": "completed"
    },
    "tags": []
   },
   "outputs": [
    {
     "data": {
      "text/plain": [
       "0         what can be done?  - never blindly trust an ab...\n",
       "1         \"we need a paradigm shift from model-centric t...\n",
       "2         using high-resolution satellite data and compu...\n",
       "3         .@stephenson_data shares four steps that will ...\n",
       "4         \"curricula is inherently brittle in a world wh...\n",
       "                                ...                        \n",
       "241381    cda jobs data, dec: employment rose in health,...\n",
       "241382    rt @filiber: have a computer science backgroun...\n",
       "241383    @pop17 heck with science. i've got empirical d...\n",
       "241384    all in the....data rt @noahwg dr. petra provid...\n",
       "241385    “the world of retail will always be a mix of a...\n",
       "Name: tweet, Length: 241386, dtype: object"
      ]
     },
     "execution_count": 5,
     "metadata": {},
     "output_type": "execute_result"
    }
   ],
   "source": [
    "# preview\n",
    "df.tweet = df.tweet.str.lower()\n",
    "\n",
    "df.tweet"
   ]
  },
  {
   "cell_type": "markdown",
   "id": "d689b41e",
   "metadata": {},
   "source": [
    "#### Cleaning and removing the stop words from the tweet text"
   ]
  },
  {
   "cell_type": "code",
   "execution_count": 6,
   "id": "latest-atlantic",
   "metadata": {
    "execution": {
     "iopub.execute_input": "2021-04-29T16:08:55.712166Z",
     "iopub.status.busy": "2021-04-29T16:08:55.706969Z",
     "iopub.status.idle": "2021-04-29T16:08:55.883500Z",
     "shell.execute_reply": "2021-04-29T16:08:55.884019Z"
    },
    "papermill": {
     "duration": 0.223569,
     "end_time": "2021-04-29T16:08:55.884231",
     "exception": false,
     "start_time": "2021-04-29T16:08:55.660662",
     "status": "completed"
    },
    "tags": []
   },
   "outputs": [
    {
     "data": {
      "text/plain": [
       "0    done? - never blindly trust abstract, press re...\n",
       "1    \"we need paradigm shift model-centric data-cen...\n",
       "2    using high-resolution satellite data computer ...\n",
       "3    .@stephenson_data shares four steps help new d...\n",
       "4    \"curricula inherently brittle world in-demand ...\n",
       "Name: tweet, dtype: object"
      ]
     },
     "execution_count": 6,
     "metadata": {},
     "output_type": "execute_result"
    }
   ],
   "source": [
    "stop_words = stopwords.words('english')\n",
    "\n",
    "def cleaning_stopwords(text: str) -> str:\n",
    "    return \" \".join(word for word in text.split() if word not in stop_words)\n",
    "\n",
    "df.tweet = df.tweet.apply(cleaning_stopwords)\n",
    "\n",
    "df.tweet.head(5)"
   ]
  },
  {
   "cell_type": "markdown",
   "id": "b57d1090",
   "metadata": {},
   "source": [
    "#### Cleaning and removing punctuations"
   ]
  },
  {
   "cell_type": "code",
   "execution_count": 7,
   "id": "bd6822e0",
   "metadata": {},
   "outputs": [
    {
     "data": {
      "text/plain": [
       "0    done  never blindly trust abstract press relea...\n",
       "1    we need paradigm shift modelcentric datacentri...\n",
       "2    using highresolution satellite data computer a...\n",
       "3    stephensondata shares four steps help new data...\n",
       "4    curricula inherently brittle world indemand sk...\n",
       "Name: tweet, dtype: object"
      ]
     },
     "execution_count": 7,
     "metadata": {},
     "output_type": "execute_result"
    }
   ],
   "source": [
    "punctuations_list = string.punctuation\n",
    "\n",
    "def cleaning_punctuations(text: str) -> str:\n",
    "    translator = str.maketrans('', '', punctuations_list)\n",
    "    return text.translate(translator)\n",
    "\n",
    "df.tweet = df.tweet.apply(cleaning_punctuations)\n",
    "\n",
    "df.tweet.head(5)"
   ]
  },
  {
   "cell_type": "markdown",
   "id": "65d44b2e",
   "metadata": {},
   "source": [
    "#### Cleaning and removing URL’s"
   ]
  },
  {
   "cell_type": "code",
   "execution_count": 8,
   "id": "859061f2",
   "metadata": {},
   "outputs": [
    {
     "data": {
      "text/plain": [
       "0    done  never blindly trust abstract press relea...\n",
       "1    we need paradigm shift modelcentric datacentri...\n",
       "2    using highresolution satellite data computer a...\n",
       "3    stephensondata shares four steps help new data...\n",
       "4    curricula inherently brittle world indemand sk...\n",
       "Name: tweet, dtype: object"
      ]
     },
     "execution_count": 8,
     "metadata": {},
     "output_type": "execute_result"
    }
   ],
   "source": [
    "pattern, replacement = '((www.[^s]+)|(https?://[^s]+))', ' '\n",
    "\n",
    "def cleaning_URLs(text: str) -> str:\n",
    "    return re.sub(pattern, replacement, text)\n",
    "\n",
    "df.tweet = df.tweet.apply(cleaning_URLs)\n",
    "\n",
    "df.tweet.head(5)"
   ]
  },
  {
   "cell_type": "markdown",
   "id": "14f2551d",
   "metadata": {},
   "source": [
    "#### Cleaning and removing Numeric numbers"
   ]
  },
  {
   "cell_type": "code",
   "execution_count": 9,
   "id": "55279fe7",
   "metadata": {},
   "outputs": [
    {
     "data": {
      "text/plain": [
       "0    done  never blindly trust abstract press relea...\n",
       "1    we need paradigm shift modelcentric datacentri...\n",
       "2    using highresolution satellite data computer a...\n",
       "3    stephensondata shares four steps help new data...\n",
       "4    curricula inherently brittle world indemand sk...\n",
       "Name: tweet, dtype: object"
      ]
     },
     "execution_count": 9,
     "metadata": {},
     "output_type": "execute_result"
    }
   ],
   "source": [
    "pattern, replacement = '[0-9]+', ''\n",
    "\n",
    "def cleaning_numbers(text: str) -> str:\n",
    "    return re.sub(pattern, replacement, text)\n",
    "\n",
    "df.tweet = df.tweet.apply(cleaning_numbers)\n",
    "\n",
    "df.tweet.head(5)"
   ]
  },
  {
   "cell_type": "markdown",
   "id": "81cacee6",
   "metadata": {},
   "source": [
    "#### Getting tokenization of tweet text"
   ]
  },
  {
   "cell_type": "code",
   "execution_count": 10,
   "id": "1156c803",
   "metadata": {},
   "outputs": [
    {
     "data": {
      "text/plain": [
       "0    [done, never, blindly, trust, abstract, press,...\n",
       "1    [we, need, paradigm, shift, modelcentric, data...\n",
       "2    [using, highresolution, satellite, data, compu...\n",
       "3    [stephensondata, shares, four, steps, help, ne...\n",
       "4    [curricula, inherently, brittle, world, indema...\n",
       "Name: tweet, dtype: object"
      ]
     },
     "execution_count": 10,
     "metadata": {},
     "output_type": "execute_result"
    }
   ],
   "source": [
    "df.tweet = df.tweet.apply(word_tokenize)\n",
    "\n",
    "df.tweet.head(5)"
   ]
  },
  {
   "cell_type": "markdown",
   "id": "60f00350",
   "metadata": {},
   "source": [
    "#### Applying Lemmatizer"
   ]
  },
  {
   "cell_type": "code",
   "execution_count": 11,
   "id": "929c5a32",
   "metadata": {},
   "outputs": [
    {
     "data": {
      "text/plain": [
       "0    done never blindly trust abstract press releas...\n",
       "1    we need paradigm shift modelcentric datacentri...\n",
       "2    using highresolution satellite data computer a...\n",
       "3    stephensondata share four step help new data s...\n",
       "4    curriculum inherently brittle world indemand s...\n",
       "Name: tweet, dtype: object"
      ]
     },
     "execution_count": 11,
     "metadata": {},
     "output_type": "execute_result"
    }
   ],
   "source": [
    "lemmatizer = WordNetLemmatizer()\n",
    "\n",
    "def lemmatizer_on_text(text: str) -> str:\n",
    "    return \" \".join(lemmatizer.lemmatize(word) for word in text)\n",
    "\n",
    "df.tweet = df.tweet.apply(lemmatizer_on_text)\n",
    "\n",
    "df.tweet.head(5)"
   ]
  },
  {
   "cell_type": "markdown",
   "id": "cdcb6fe5",
   "metadata": {},
   "source": [
    "# Text Sentiment Analysis"
   ]
  },
  {
   "cell_type": "code",
   "execution_count": 12,
   "id": "69b8e207",
   "metadata": {},
   "outputs": [],
   "source": [
    "analyser = SentimentIntensityAnalyzer()\n",
    "\n",
    "def calculate_sentiment_analyser(text: str) -> dict:    \n",
    "    return analyser.polarity_scores(text)\n",
    "\n",
    "def calculate_compound_score(sentiment: dict) -> float:\n",
    "    return sentiment['compound']\n",
    "\n",
    "def calculate_compound_score_sentiment(compound_score: float) -> str:    \n",
    "    return  'Negative' if (compound_score <= -0.05) else \\\n",
    "            'Positive' if (compound_score >= 0.05) else \\\n",
    "            'Neutral'"
   ]
  },
  {
   "cell_type": "markdown",
   "id": "41abadc9",
   "metadata": {},
   "source": [
    "#### Calculating sentiments"
   ]
  },
  {
   "cell_type": "code",
   "execution_count": 13,
   "id": "adfb90dc",
   "metadata": {},
   "outputs": [
    {
     "data": {
      "text/html": [
       "<div>\n",
       "<style scoped>\n",
       "    .dataframe tbody tr th:only-of-type {\n",
       "        vertical-align: middle;\n",
       "    }\n",
       "\n",
       "    .dataframe tbody tr th {\n",
       "        vertical-align: top;\n",
       "    }\n",
       "\n",
       "    .dataframe thead th {\n",
       "        text-align: right;\n",
       "    }\n",
       "</style>\n",
       "<table border=\"1\" class=\"dataframe\">\n",
       "  <thead>\n",
       "    <tr style=\"text-align: right;\">\n",
       "      <th></th>\n",
       "      <th>id</th>\n",
       "      <th>date</th>\n",
       "      <th>user</th>\n",
       "      <th>tweet</th>\n",
       "      <th>sentiment_analyser</th>\n",
       "      <th>compound_score</th>\n",
       "      <th>compound_score_sentiment</th>\n",
       "    </tr>\n",
       "  </thead>\n",
       "  <tbody>\n",
       "    <tr>\n",
       "      <th>0</th>\n",
       "      <td>1406400408545804288</td>\n",
       "      <td>2021-06-20 15:56:01+05:30</td>\n",
       "      <td>ballouxfrancois</td>\n",
       "      <td>done never blindly trust abstract press releas...</td>\n",
       "      <td>{'neg': 0.231, 'neu': 0.629, 'pos': 0.141, 'co...</td>\n",
       "      <td>-0.4592</td>\n",
       "      <td>Negative</td>\n",
       "    </tr>\n",
       "    <tr>\n",
       "      <th>1</th>\n",
       "      <td>1406390341176016897</td>\n",
       "      <td>2021-06-20 15:16:01+05:30</td>\n",
       "      <td>tdatascience</td>\n",
       "      <td>we need paradigm shift modelcentric datacentri...</td>\n",
       "      <td>{'neg': 0.135, 'neu': 0.692, 'pos': 0.173, 'co...</td>\n",
       "      <td>0.0000</td>\n",
       "      <td>Neutral</td>\n",
       "    </tr>\n",
       "    <tr>\n",
       "      <th>2</th>\n",
       "      <td>1406386311481774083</td>\n",
       "      <td>2021-06-20 15:00:00+05:30</td>\n",
       "      <td>sciencenews</td>\n",
       "      <td>using highresolution satellite data computer a...</td>\n",
       "      <td>{'neg': 0.0, 'neu': 1.0, 'pos': 0.0, 'compound...</td>\n",
       "      <td>0.0000</td>\n",
       "      <td>Neutral</td>\n",
       "    </tr>\n",
       "    <tr>\n",
       "      <th>3</th>\n",
       "      <td>1406383545153638402</td>\n",
       "      <td>2021-06-20 14:49:01+05:30</td>\n",
       "      <td>tdatascience</td>\n",
       "      <td>stephensondata share four step help new data s...</td>\n",
       "      <td>{'neg': 0.0, 'neu': 0.552, 'pos': 0.448, 'comp...</td>\n",
       "      <td>0.7430</td>\n",
       "      <td>Positive</td>\n",
       "    </tr>\n",
       "    <tr>\n",
       "      <th>4</th>\n",
       "      <td>1406358632648818689</td>\n",
       "      <td>2021-06-20 13:10:01+05:30</td>\n",
       "      <td>tdatascience</td>\n",
       "      <td>curriculum inherently brittle world indemand s...</td>\n",
       "      <td>{'neg': 0.0, 'neu': 0.895, 'pos': 0.105, 'comp...</td>\n",
       "      <td>0.4019</td>\n",
       "      <td>Positive</td>\n",
       "    </tr>\n",
       "  </tbody>\n",
       "</table>\n",
       "</div>"
      ],
      "text/plain": [
       "                    id                      date             user  \\\n",
       "0  1406400408545804288 2021-06-20 15:56:01+05:30  ballouxfrancois   \n",
       "1  1406390341176016897 2021-06-20 15:16:01+05:30     tdatascience   \n",
       "2  1406386311481774083 2021-06-20 15:00:00+05:30      sciencenews   \n",
       "3  1406383545153638402 2021-06-20 14:49:01+05:30     tdatascience   \n",
       "4  1406358632648818689 2021-06-20 13:10:01+05:30     tdatascience   \n",
       "\n",
       "                                               tweet  \\\n",
       "0  done never blindly trust abstract press releas...   \n",
       "1  we need paradigm shift modelcentric datacentri...   \n",
       "2  using highresolution satellite data computer a...   \n",
       "3  stephensondata share four step help new data s...   \n",
       "4  curriculum inherently brittle world indemand s...   \n",
       "\n",
       "                                  sentiment_analyser  compound_score  \\\n",
       "0  {'neg': 0.231, 'neu': 0.629, 'pos': 0.141, 'co...         -0.4592   \n",
       "1  {'neg': 0.135, 'neu': 0.692, 'pos': 0.173, 'co...          0.0000   \n",
       "2  {'neg': 0.0, 'neu': 1.0, 'pos': 0.0, 'compound...          0.0000   \n",
       "3  {'neg': 0.0, 'neu': 0.552, 'pos': 0.448, 'comp...          0.7430   \n",
       "4  {'neg': 0.0, 'neu': 0.895, 'pos': 0.105, 'comp...          0.4019   \n",
       "\n",
       "  compound_score_sentiment  \n",
       "0                 Negative  \n",
       "1                  Neutral  \n",
       "2                  Neutral  \n",
       "3                 Positive  \n",
       "4                 Positive  "
      ]
     },
     "execution_count": 13,
     "metadata": {},
     "output_type": "execute_result"
    }
   ],
   "source": [
    "df[\"sentiment_analyser\"] = df.tweet.apply(calculate_sentiment_analyser)\n",
    "\n",
    "df['compound_score'] = df.sentiment_analyser.apply(calculate_compound_score)\n",
    "\n",
    "df['compound_score_sentiment'] = df.compound_score.apply(calculate_compound_score_sentiment)\n",
    "    \n",
    "df.head(5)"
   ]
  },
  {
   "cell_type": "code",
   "execution_count": 14,
   "id": "742cd1ee",
   "metadata": {},
   "outputs": [
    {
     "data": {
      "text/plain": [
       "Positive    123418\n",
       "Neutral      94702\n",
       "Negative     23266\n",
       "Name: compound_score_sentiment, dtype: int64"
      ]
     },
     "execution_count": 14,
     "metadata": {},
     "output_type": "execute_result"
    }
   ],
   "source": [
    "df.compound_score_sentiment.value_counts()"
   ]
  },
  {
   "cell_type": "markdown",
   "id": "8f2d19fb",
   "metadata": {},
   "source": [
    "#### Implementing KMeans"
   ]
  },
  {
   "cell_type": "code",
   "execution_count": 15,
   "id": "acac5ebc",
   "metadata": {},
   "outputs": [],
   "source": [
    "# Considering 3 grams and mimnimum frq as 0\n",
    "# tf_idf_vect = TfidfVectorizer(analyzer = 'word', ngram_range = (1, 3), min_df = 0, stop_words = 'english')\n",
    "tf_idf_vect = CountVectorizer(analyzer='word',ngram_range=(1,1),stop_words='english', min_df = 0.0001)\n",
    "tf_idf_vect.fit(df.tweet)\n",
    "desc_matrix = tf_idf_vect.transform(df.tweet)"
   ]
  },
  {
   "cell_type": "code",
   "execution_count": 16,
   "id": "523f9bf9",
   "metadata": {},
   "outputs": [],
   "source": [
    "# implement kmeans\n",
    "num_clusters = 3\n",
    "km = KMeans(n_clusters=num_clusters)\n",
    "km.fit(desc_matrix)\n",
    "clusters = km.labels_.tolist()"
   ]
  },
  {
   "cell_type": "code",
   "execution_count": 17,
   "id": "40b02ebc",
   "metadata": {
    "scrolled": true
   },
   "outputs": [
    {
     "data": {
      "text/plain": [
       "2    116392\n",
       "1     76141\n",
       "0     48853\n",
       "Name: Cluster, dtype: int64"
      ]
     },
     "execution_count": 17,
     "metadata": {},
     "output_type": "execute_result"
    }
   ],
   "source": [
    "# create DataFrame films from all of the input files.\n",
    "tweets = {'Tweet': df.tweet.tolist(), 'Cluster': clusters}\n",
    "frame = pd.DataFrame(tweets, index = [clusters])\n",
    "\n",
    "frame.Cluster.value_counts()"
   ]
  },
  {
   "cell_type": "code",
   "execution_count": 18,
   "id": "1fdd0905",
   "metadata": {},
   "outputs": [
    {
     "data": {
      "image/png": "[encoded data removed]",
      "text/plain": [
       "<Figure size 432x288 with 1 Axes>"
      ]
     },
     "metadata": {},
     "output_type": "display_data"
    }
   ],
   "source": [
    "#create pie chart\n",
    "colors = sns.color_palette('pastel')[0:3]\n",
    "_ = plt.pie(frame.Cluster.value_counts(), labels = [\"Positive\", \"Neutral\", \"Negative\"], colors = colors, autopct='%.0f%%')"
   ]
  }
 ],
 "metadata": {
  "kernelspec": {
   "display_name": "Python 3 (ipykernel)",
   "language": "python",
   "name": "python3"
  },
  "language_info": {
   "codemirror_mode": {
    "name": "ipython",
    "version": 3
   },
   "file_extension": ".py",
   "mimetype": "text/x-python",
   "name": "python",
   "nbconvert_exporter": "python",
   "pygments_lexer": "ipython3",
   "version": "3.9.7"
  },
  "papermill": {
   "default_parameters": {},
   "duration": 51.901273,
   "end_time": "2021-04-29T16:09:31.123612",
   "environment_variables": {},
   "exception": null,
   "input_path": "__notebook__.ipynb",
   "output_path": "__notebook__.ipynb",
   "parameters": {},
   "start_time": "2021-04-29T16:08:39.222339",
   "version": "2.3.3"
  }
 },
 "nbformat": 4,
 "nbformat_minor": 5
}
